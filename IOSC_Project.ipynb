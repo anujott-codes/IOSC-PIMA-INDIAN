{
  "nbformat": 4,
  "nbformat_minor": 0,
  "metadata": {
    "colab": {
      "provenance": [],
      "mount_file_id": "1PDXN0IZTJu4ksFq1fieBhAkFRUPfkyeJ",
      "authorship_tag": "ABX9TyMFYQplWaIh1ZNhrur0397S",
      "include_colab_link": true
    },
    "kernelspec": {
      "name": "python3",
      "display_name": "Python 3"
    },
    "language_info": {
      "name": "python"
    }
  },
  "cells": [
    {
      "cell_type": "markdown",
      "metadata": {
        "id": "view-in-github",
        "colab_type": "text"
      },
      "source": [
        "<a href=\"https://colab.research.google.com/github/anujott-codes/IOSC-PIMA-INDIAN/blob/main/IOSC_Project.ipynb\" target=\"_parent\"><img src=\"https://colab.research.google.com/assets/colab-badge.svg\" alt=\"Open In Colab\"/></a>"
      ]
    },
    {
      "cell_type": "markdown",
      "source": [
        "\n",
        "#IOSC PROJECT\n",
        "#*PIMA-INDIAN DIABETES CLASSIFICATION*"
      ],
      "metadata": {
        "id": "Pxx3QSFBWAon"
      }
    },
    {
      "cell_type": "markdown",
      "source": [],
      "metadata": {
        "id": "zbHz3EGfWiXt"
      }
    },
    {
      "cell_type": "code",
      "source": [],
      "metadata": {
        "id": "kUOr6c4tVlGS"
      },
      "execution_count": null,
      "outputs": []
    }
  ]
}